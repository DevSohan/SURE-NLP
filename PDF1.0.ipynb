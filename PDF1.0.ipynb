{
 "cells": [
  {
   "cell_type": "code",
   "execution_count": 158,
   "id": "f6fead2d-6af0-4f66-913d-1692b39e3976",
   "metadata": {},
   "outputs": [],
   "source": [
    "##to lowarcase all to find\n",
    "\n",
    "def visitor_body(text, cm, tm, fontDict, fontSize):\n",
    "    y = tm[5]\n",
    "    if y > 70 and y < 750:\n",
    "        parts.append(text)\n",
    "\n",
    "def save_text(name, path, text):\n",
    "    try:\n",
    "        with open(path + name +'.txt', 'w', encoding=\"utf-8\") as f:\n",
    "            f.write(text)\n",
    "    except FileNotFoundError:\n",
    "        print(\"The directory does not exist\")\n",
    "        \n",
    "def download_zip(output_filename, dir_name):\n",
    "    shutil.make_archive(output_filename, 'zip', dir_name)\n",
    "\n",
    "def remove_custom_chars(text_body):\n",
    "    \n",
    "    scape_chars = ['\"', \"”\", \"“\", \"’s\", \",\",\"'s\", \"\\xa0\", \":\", \";\", \"●\", \"•\"]\n",
    "    replace_chars = [\"/\", \")\", \"(\", \".\",\"\\n\", \n",
    "                   \"wp#1\", \"wp#2\", \"wp#3\", \"wp#4\", \"wp#5\", \"wp#6\", \"wp#7\", \n",
    "                   \"wp# 1\", \"wp# 2\", \"wp# 3\", \"wp# 4\", \"wp# 5\", \"wp# 6\", \"wp# 7\", \"-\", \n",
    "                   \"wp \", \"wp 1\", \"wp 2\", \"wp 3\", \"wp 4\", \"wp 5\", \"wp 6\"]\n",
    "    text_body = text_body.lower()\n",
    "    for i in scape_chars:\n",
    "        text_body = text_body.replace(i, \"\")\n",
    "    for i in replace_chars:\n",
    "        text_body = text_body.replace(i, \" \")\n",
    "    return text_body\n",
    "\n",
    "        \n",
    "## Charms = 1\n",
    "## GreenCityLabHue = 1\n",
    "## IMECOGIP = 1\n",
    "## LIRLAP = 1\n",
    "## Polyurbanwaters = 1\n",
    "## Build4People = 2\n",
    "## emplement! = 3\n",
    "## FloodAdaptVN = 3\n",
    "## URA = 3\n",
    "## MYrisk = 5"
   ]
  },
  {
   "cell_type": "code",
   "execution_count": 159,
   "id": "1f56cdba-b57e-4a14-92fb-461551a05931",
   "metadata": {},
   "outputs": [
    {
     "name": "stdout",
     "output_type": "stream",
     "text": [
      "Proposals/Build4People.pdf\n",
      "Proposals/Charms.pdf\n",
      "Proposals/emplement!.pdf\n",
      "Proposals/FloodAdaptVN.pdf\n",
      "Proposals/GreenCityLabHue.pdf\n",
      "Proposals/IMECOGIP.pdf\n",
      "Proposals/LIRLAP.pdf\n",
      "Proposals/MYrisk.pdf\n",
      "Proposals/Polyurbanwaters.pdf\n",
      "Proposals/URA.pdf\n"
     ]
    }
   ],
   "source": [
    "import os\n",
    "import re\n",
    "import sys\n",
    "from PyPDF2 import PdfReader\n",
    "files_path = os.listdir('Project proposals')\n",
    "text_files_path = 'Text2/'\n",
    "for file in files_path:\n",
    "    fileName = os.path.splitext(file)[0]\n",
    "    extention = os.path.splitext(file)[1]\n",
    "    if extention == '.pdf':\n",
    "        reader = PdfReader(\"Project proposals/\"+file)\n",
    "        startPage = 0\n",
    "        endPage = len(reader.pages)\n",
    "        parts = []\n",
    "        for i in range(startPage, endPage):\n",
    "            page = reader.pages[i]\n",
    "            page.extract_text(visitor_text=visitor_body)\n",
    "            text_body = \"\".join(parts)\n",
    "        text_body = re.sub(' +', ' ', text_body)\n",
    "        \n",
    "        text_body = remove_custom_chars(text_body.lower())\n",
    "        save_text(fileName, text_files_path, text_body)\n",
    "        print(\"Proposals/\"+file)"
   ]
  },
  {
   "cell_type": "code",
   "execution_count": 17,
   "id": "014ea8f8-726a-4cfb-b9ba-45646e7b6ca8",
   "metadata": {},
   "outputs": [],
   "source": [
    "## Issues with special chars in Files in Anaconda\n"
   ]
  },
  {
   "cell_type": "code",
   "execution_count": 60,
   "id": "f5247eae",
   "metadata": {},
   "outputs": [],
   "source": [
    "def visitor_body(text, cm, tm, fontDict, fontSize):\n",
    "    y = tm[5]\n",
    "    if y > 70 and y < 750:\n",
    "        parts.append(text)"
   ]
  },
  {
   "cell_type": "code",
   "execution_count": 119,
   "id": "0cf8ba41",
   "metadata": {},
   "outputs": [
    {
     "name": "stdout",
     "output_type": "stream",
     "text": [
      "['\\n', 'deeper, transferable and scalable knowledge a', ' nd know', ' -', 'how for their effective localization. A key challenge is to ', '\\n', 'overcome sectoral fragmentation at national and local governance levels to ensure more integrated and inclusive ', '\\n', 'approaches for transitioning urban spaces to sustainability. This is especia', ' lly applicable to the critical gap at the ', '\\n', 'juncture between urban water management and urban planning. The applied research project Polyurbwater ', '\\n', 'addresses this gap by exploring the multiple interlinkages between both sectors and by developing concepts ', '\\n', 'and t', ' ools for planning and governance approaches for fast growing, secondary and tertiary cities Southeast Asia ', '\\n', '(SEA), a region that remains under', ' -', 'researched (Roberts, 2014', ' ; ', 'Daniere et al., 2020). The results from the ', '\\n', \"project's Definition Phase confirmed the pa\", ' rticular relevance of the nexus between water management and urban ', '\\n', 'planning as well as the limitations of classical approaches towards infrastructure development and planning in ', '\\n', 'comprehensively addressing social, economic and environmental vulnerabilities ', 'that will be drastically ', '\\n', 'exacerbated by climate change. Based on the hypothesis that polycentric approaches to urban water ', '\\n', 'management can address mismatches between needs and capacities of these cities, the research project ', '\\n', 'Polyurbwater pursues the followi', ' ng questions:', '  ', '\\n', '1.', ' ', 'How can a diverse set of stakeholders contribute to building an inter', ' -', ' ', 'and transdisciplinary local knowledge', '\\n', 'base on water and urban development related challenges in the SEA region? How can this knowledge be', '\\n', 'systemati', ' z', 'ed, scaled and regularly updated to serve as a basis for inclusive and future', ' -', 'oriented municipal', '\\n', 'planning approaches across the region?', '\\n', '2.', 'How can effective and sustainable water', ' -', 'sensitive urban development be fostered through a combination of', '\\n', 'centralized an', ' d decentralized technical and social', ' -', 'ecological innovations, including Nature', ' -', 'Based Solutions (NBS),', '\\n', 'participatory strategic planning and effective water management structures, as an integral part of a systemic', '\\n', 'polycentric nexus approach (water, waste, ene', ' rgy, housing, IT, food, community development, etc.)?', '\\n', '3.', 'How can “water” serve as a strategic entry point towards integrated, inclusive and resilient urban development', '\\n', 'that is guided by the SDG framework? Which polycentric, intersectoral and participatory go', ' vernance approaches', '\\n', 'are required to plan, develop, sustainably operate and finance such integrated water', ' -', 'sensitive development that', '\\n', 'has the capacity to evolve further in line with dynamic urbanization processes?', '\\n', '4.', ' ', 'How can local innovation processes inform ne', ' w practice', ' -', 'oriented pedagogies, capacity building approaches', '\\n', 'and research agendas to strengthen a network of academic institutions in the region?', '\\n', 'Polyurbwater is a project of an inter', ' -', ' ', 'and transdisciplinary research consortium of academic institutions, civ', ' il ', '\\n', 'society organizations, public/government institutions, private sector actors and cities from Cambodia, Germany, ', '\\n', 'Indonesia, Laos, Thailand and Vietnam. Polyurbwater focuses its research activities around three Living Labs ', '\\n', 'located in Sleman (Indonesia), S', ' am Neua (Laos) and ', 'Kratie', '  ', '(Cambodia), which provide a representative cross', ' -', '\\n', 'section of the challenges faced by fast', ' -', 'growing secondary and tertiary cities in SEA in diverse governance ', '\\n', 'contexts. The research will develop and test innovative and transferable t', ' ools for inclusive,', '  ', 'cross', ' -', 'sectoral ', '\\n', 'decision', ' -', 'making for polycentric water', ' -', 'sensitive urban development and support its exemplary implementation. ', '\\n', 'The project will develop a research and learning partnership across SEA and with Germany. ', 'Close cooperation ', '\\n', 'with ', 'regional and multilateral organizations', '  ', 'such as UNESCAP ', 'and German Water Partnership (GWP) will allow ']\n"
     ]
    }
   ],
   "source": [
    "reader = PdfReader(\"Project proposals/Polyurbanwaters.pdf\")\n",
    "endPage = len(reader.pages)\n",
    "parts = []\n",
    "page = reader.pages[0]\n",
    "page.extract_text(visitor_text=visitor_body)\n",
    "text_body = \"\".join(parts)\n",
    "print(parts)"
   ]
  },
  {
   "cell_type": "code",
   "execution_count": 27,
   "id": "e9b05233",
   "metadata": {},
   "outputs": [
    {
     "name": "stdout",
     "output_type": "stream",
     "text": [
      "['56', '1', '0', '153', '0', '0', '56', '1', '0', '153', '0', '0', '56', '1', '0', '153', '0', '0', '5', '1', '2', '34', 'B_3_1_1', '0', '5', '1', '2', '34', 'C_9841', '0', '']\n"
     ]
    }
   ],
   "source": [
    "def visitor_body(text, cm, tm, fontDict, fontSize):\n",
    "    y = tm[5]\n",
    "    if y > 70 and y < 750:\n",
    "        parts.append(text)\n",
    "\n",
    "long_str = \"56,1,0,153,0,0;56,1,0,153,0,0;56,1,0,153,0,0;5,1,2,34,B_3_1_1,0;5,1,2,34,C_9841,0;\"\n",
    "\n",
    "splitted_str = re.split(';|,', long_str)\n",
    "print(splitted_str)"
   ]
  },
  {
   "cell_type": "code",
   "execution_count": 121,
   "id": "a920f509",
   "metadata": {},
   "outputs": [
    {
     "name": "stdout",
     "output_type": "stream",
     "text": [
      "[]\n",
      "[]\n"
     ]
    }
   ],
   "source": [
    "def visitor_body2(text, cm, tm, fontDict, fontSize):\n",
    "    y = tm[5]\n",
    "    scape_chars = ['\"', \"”\", \"“\", \"’s\", \",\",\"'s\", \"\\xa0\", \":\", \";\"]\n",
    "    replace_chars = [\"/\", \")\", \"(\", \".\",\"\\n\"]\n",
    "    if y > 70 and y < 750:\n",
    "        for i in scape_chars:\n",
    "            text = text.replace(i, \"\")\n",
    "        for i in replace_chars:\n",
    "            text = text.replace(i, \" \")\n",
    "        parts.append(text)\n",
    "\n",
    "reader = PdfReader(\"Project proposals/URA.pdf\")\n",
    "endPage = len(reader.pages)\n",
    "parts = []\n",
    "for i in range(startPage, 5):\n",
    "    page = reader.pages[i]\n",
    "    page.extract_text(visitor_text=visitor_body2)\n",
    "    text_body = \"\".join(parts)\n",
    "text_body = re.sub(' +', ' ', text_body)\n",
    "text_body = text_body.lower()\n",
    "print(re.findall(r'wp\\w.', text_body))\n",
    "print(re.findall(r'wp\\W.', text_body))"
   ]
  },
  {
   "cell_type": "code",
   "execution_count": 104,
   "id": "2652f3a8",
   "metadata": {},
   "outputs": [
    {
     "name": "stdout",
     "output_type": "stream",
     "text": [
      "['wp#']\n"
     ]
    }
   ],
   "source": [
    "s = \"black, blue and brown wp#1 wp2\"\n",
    "pattern = r'wp\\W+'\n",
    "matches = re.findall(pattern,s)\n",
    "\n",
    "print(matches)"
   ]
  },
  {
   "cell_type": "code",
   "execution_count": 151,
   "id": "b87c252a",
   "metadata": {},
   "outputs": [
    {
     "ename": "SyntaxError",
     "evalue": "invalid syntax (Temp/ipykernel_50776/1602513837.py, line 3)",
     "output_type": "error",
     "traceback": [
      "\u001b[1;36m  File \u001b[1;32m\"C:\\Users\\SHOHAN~1\\AppData\\Local\\Temp/ipykernel_50776/1602513837.py\"\u001b[1;36m, line \u001b[1;32m3\u001b[0m\n\u001b[1;33m    Proposals/emplement!.pdf\u001b[0m\n\u001b[1;37m                       ^\u001b[0m\n\u001b[1;31mSyntaxError\u001b[0m\u001b[1;31m:\u001b[0m invalid syntax\n"
     ]
    }
   ],
   "source": [
    "Proposals/Build4People.pdf\n",
    "Proposals/Charms.pdf\n",
    "Proposals/emplement!.pdf\n",
    "Proposals/FloodAdaptVN.pdf\n",
    "Proposals/GreenCityLabHue.pdf\n",
    "Proposals/IMECOGIP.pdf\n",
    "Proposals/LIRLAP.pdf\n",
    "Proposals/MYrisk.pdf\n",
    "Proposals/Polyurbanwaters.pdf\n",
    "Proposals/URA.pdf\n"
   ]
  },
  {
   "cell_type": "code",
   "execution_count": 155,
   "id": "74436d6d",
   "metadata": {},
   "outputs": [
    {
     "name": "stdout",
     "output_type": "stream",
     "text": [
      "Polyurbanwaters.pdf\n",
      " deeper transferable and scalable knowledge a nd know  how for their effective localization  a key challenge is to  overcome sectoral fragmentation at national and local governance levels to ensure more integrated and inclusive  approaches for transitioning urban spaces to sustainability  this is especia lly applicable to the critical gap at the  juncture between urban water management and urban planning  the applied research project polyurbwater  addresses this gap by exploring the multiple interlinkages between both sectors and by developing concepts  and t ools for planning and governance approaches for fast growing secondary and tertiary cities southeast asia   sea  a region that remains under  researched  roberts 2014  daniere et al  2020   the results from the  project definition phase confirmed the pa rticular relevance of the nexus between water management and urban  planning as well as the limitations of classical approaches towards infrastructure development and planning in  comprehensively addressing social economic and environmental vulnerabilities that will be drastically  exacerbated by climate change  based on the hypothesis that polycentric approaches to urban water  management can address mismatches between needs and capacities of these cities the research project  polyurbwater pursues the followi ng questions   1  how can a diverse set of stakeholders contribute to building an inter   and transdisciplinary local knowledge base on water and urban development related challenges in the sea region? how can this knowledge be systemati zed scaled and regularly updated to serve as a basis for inclusive and future  oriented municipal planning approaches across the region? 2 how can effective and sustainable water  sensitive urban development be fostered through a combination of centralized an d decentralized technical and social  ecological innovations including nature  based solutions  nbs  participatory strategic planning and effective water management structures as an integral part of a systemic polycentric nexus approach  water waste ene rgy housing it food community development etc  ? 3 how can water serve as a strategic entry point towards integrated inclusive and resilient urban development that is guided by the sdg framework? which polycentric intersectoral and participatory go vernance approaches are required to plan develop sustainably operate and finance such integrated water  sensitive development that has the capacity to evolve further in line with dynamic urbanization processes? 4  how can local innovation processes inform ne w practice  oriented pedagogies capacity building approaches and research agendas to strengthen a network of academic institutions in the region? polyurbwater is a project of an inter   and transdisciplinary research consortium of academic institutions civ il  society organizations public government institutions private sector actors and cities from cambodia germany  indonesia laos thailand and vietnam  polyurbwater focuses its research activities around three living labs  located in sleman  indonesia  s am neua  laos  and kratie   cambodia  which provide a representative cross   section of the challenges faced by fast  growing secondary and tertiary cities in sea in diverse governance  contexts  the research will develop and test innovative and transferable t ools for inclusive  cross  sectoral  decision  making for polycentric water  sensitive urban development and support its exemplary implementation   the project will develop a research and learning partnership across sea and with germany  close cooperation  with regional and multilateral organizations  such as unescap and german water partnership  gwp  will allow  here urban water  related transitions have seen increasing mismatches between  rapid urban growth and the  required investment in infrastructure services and environmental management  dahiya 2014  leading to a  situation where multi  scaled water burdens are being experienced simultaneously    marcotullio 2007   rapid  and frequently  unplanned developments in many secondary and tertiary cities in sea lead to the destruction of   aquatic  ecosystems water pollution and the disruption of water cycles   costa et al  2016 furlong and kooy  2017 hoekstra et al  2018   climate change im pacts  i e  more frequent and intense floods and droughts  will  further deplete freshwater sources cause degradation of marine and estuarine environments  costa et al  2016  furlong and kooy 2017   rapid and frequently unplanned urbanization significan tly accelerates supply gaps in  water  related municipal public services and the overexploitation of water resources has reached alarming levels  in many contexts  world bank group 2016  adb 2018 unescap 2019   because planning frameworks are  often highly  centralized sectoral and designed to fit within ideal typical planning cycles they are unable to  capture the complex and fast changing interface between water management and urban development needs  and address long  term changes    while global agendas such as sdgs or nua offer some orientation towards a holistic vision key obstacles are  a lacking knowledge base that connects a deep local understanding of current challenges and available  resources as well as cross  sectoral processes tools and c apacities to plan and steer effective transformation    gutterer and reuter 2016    polyurbwater seeks to develop tools and frameworks for cross  sectoral cooperation  that bridge existing silo approaches by bringing together different sectors and relevant sta keholders such as  public entities private sector communities civil society and academia  most integrated solutions are not solely  technical but rely heavily on both social  ecological and governance dimensions as well as the strong participation  of loca l stakeholders in planning processes as key drivers of change  polyurbwater integrates this  transdisciplinarity by working with a diverse team collaborati ng with state and non  state actors t hus increasing  the chances of securing sustainable gains  e g  o strom 1996 watson 2014  huchzezmeyer & misselwitz 2016     effective responses to current challenges require the ability to first acknowledge and then integrate a multiplicity  of predicaments that prevent positive and sustainable transitions  this multiplicity crystallizes in cities where  various  stakeholders have to generate  synergies and understand trade  offs between ecological social and  political transformation to anchor water  sensit ive development and climate action  the greatest challenge in  being able to achieve this aim is often not technology or capit al but rather a generation of knowledge the  integration of regulatory frameworks and the empowerment of practitioners with the right sensibilities skills and  conceptual agility to guide this transformation process  large cities are hard  pressed to find and train staff with  these capabilities for secondary and tertiary cities in sea this challenge is even more demanding   sheng 2010      a key sensitizing concept for the proposed research project is that of urban resilience which has become widely  used in  research and development contexts  meerow et al  2016  béné et al  2018   the great challenge of  resilience is that it is still a relatively abstract concept to many decision  makers in sea  due to its multi  sectoral  nature resilience is still difficul t to frame and relatively complex to understand how it differs from more classic  public policy tools  in parallel the concept suffers from the catch  all syndrome by which resilience appears to  such as water  sensitive citi es water wise cities and sponge cities  barron et al  2017 koop et al  2017  ren et al  2017 narain et al  2018  borda sea 2018  2020   here the project addresses research gaps  concerning water  related challenges  furlong & kooy 2017  aboel nga ribbe  et al   2019  luo et al  2019   climate change effects  georgeson et al  2016  bai et al  2018a  urban resilience  ilgen  et al  2019 spencer  & meng 2019  as well as urban governance processes  daniere et al  2020  including the consideration of  social ecological systems  flynn & davidson  2016   and the more practice focused exploration of concepts such  as sponge cities  where research is often limited to the megacities of the region  secondary and tertiary cities  struggle to obtain adequate support and often fail to attract long  term research into their specific conditions  resources and challenges despite shouldering the largest proportional share of urban growth  marks 2018 tzu  ling chen et al  2020    birkmann et al   2016  emphasize the need to boost water  related resilience of  secondary and tertiary cities because  they frequently struggle s imultaneously with fast er population  growth high  vulnerability to climate change and environmental disasters lower budgets and weaker institutional capacities    a further characteristic of local urbanization frontiers of such cities  is the simultaneous presence of and  hybridiza tion between rural and urban lifestyles rural and urban organizational forms and  hierarchies including  decision  making structures  in planning literature this condition is often referred to as peri  urban or desakota   mc gee & shaharudin 2016   scholarly  research on the impact of this dynamically changing urbanization  frontier on water systems and related practices and lifestyles remains underdeveloped    a second sensitizing concept is the notion of polycentricity and polycentric approaches that the proje ct seeks to  apply to the management of urban waters  the idea of polycentric approaches builds on work from ostrom et  al   1961  which has since evolved to describe a complex form of governance wi th multiple centers of decision   making each of which oper ates with some degree of autonomy  carlisle & gruby 2017   the nua specifically  calls for integrated polycentric approaches that strengthen the role of small and intermediate cities   united  nations 2017  pp  24  however without definition of how this vision could be operationalized  this project  considers a water  sensitive polycentric approach to urban development to signify that multiple sectors work  together with various local public and private stakeholder groups integrating urban planning wit h water  management using centralized and decentralized approaches  such polycentric management of urban water  resources needs to include the various meanings of water in its social environmental and economic dimensions and  therefore requires the inclusion  of multiple stakeholder groups and the formulation of a collective water  sensitive vision  that can be governed from multiple centers of responsibility  neto 2016  narain et al  2018  bustillos evers &  ribbe  2019    here polyurbwater intends to co  create water  sensitive urban development scenarios with the pilot cities to  foster urban resilience and strive towards the localization of the sdgs     beyond the formulation of a water  sensitive vision methods and tools are required that enable a long term  transition process towards water  sensitive and polycentric urban planning  globally numerous tools and  methods aim to contribute to water  sensitive development urban resilience and the implementation of the sdgs   savic et al  2016  andersson e t al  2019  lund et al  2019 rall et al  2019    however many of these solutions  have been applied in regions with relatively low urban growth rates and static governance systems such as  reuter  2016   bai  201 8b  frantzeskaki  2019  and dorst et al   2019   such solutions aim for multifunctionality  of space  nesshöver et al  2016  which is of central importance in dense urban areas and provide both ecosystem  services and infrastructure services in urban se ttings  albert et al  2019    polyurbwater will assess the potential of  flexible and resilient combinations of green and grey infrastructure to adapt to complex system challenges and changing  environments in secondary sea cities in a cost effective and su stainable manner  haase 2015   in this context small  low tech and nature  based approaches are becoming increasingly important as resilience practitioners recognize the  lower costs associated with leveraging ecosystem services to protect cities against r esource depletion and extreme  weather events   gutterer et al  2012 unescap 2019      a significant knowledge gap exists in how polycentric approaches at the city level in sea can be shaped on  technical social  ecological and governance dimensions  furlong  & kooy 2017  bai 2018b  and how their  development can be translated in regulatory frameworks and in institutional capacities   co management & co   production   sheng 2010   accordingly  there is great need for instruction regarding  what it can mean for  secondary and tertiary cities in sea to break down silos in terms of interdepartmental in ter agency or cross   boundary co operation and coproduction for policy formulation at national and local levels for planning and  implementation procedures and for the design of co  productive water management schemes      3  research f indings of definition phase and p reliminary activities   empirical research findings   empirical research was conducted  in cambodia indonesia laos thailand and vietnam during the definition  phase of t he project  an overview of process steps milestone achievements and results are available at   https  polyurbanwaters org updates    on site field research and context studies were performed to characterize  urban water resources and urban planning processes in the pilot cities as well as to identify suitable living labs  in kratie   cambodia  sam neua   laos  and sleman   indonesia    this work was supported and enabled through  scoping workshops in sleman bangkok vientiane and sam neua  september 2019  problem and stakeholder  analysis workshops in phnom penh kratie  and sleman  november 2019  field research in sleman  december  2019  wo rkshops with local government and project partners in abu dhabi  world urban forum 10 february  2020  and numerous teleconference calls  primary outcomes of the definition phase are     formulation of an overview and spatial understanding of the challenges both current and expected related  to urban water resources in the three pilot cities  data collection for water cycle assessments in the pilot  cities living labs  w orking package  wp  2 wp  3 & wp  4 of definition phase in collaboration with ait  aksansi  cius hamburg wasser ministry bremen kota kita vawr  see list of partner reports in  attachment 1       identification and analysis of best practices for integrated and sdg  oriented urban water management and  inclusive infrastructure planning analysis and evaluation of co  production approaches between state actors  governmental agencies water operators communities civil society institutions and the private sector in the  context of current and expected urban transformation processes    decision  making structures in national governance structures and corresponding administrative procedures     in collaboration  with ait aksansi bremer senatsverwaltung cius hamburg wasser kota kita  ugm unescap       analysis of the institutional and legal frameworks for the engagement of the private sector and market  development in the dissemination of decentralized solutions for sustainable wastewater treatment  infrastructure  wp  6 in collaboration with ait hamburg wasser ugm unescap       in depth stakeholder analysis and capacity needs assessment  wp  5 in collaboration with ait kota kita  hamburg wasser vawr ugm       preliminary assessment for development of academic network existing learning programs current  institutional arrangements and need for practice  oriented research  wp  5 & w p 6 in collaboration with ait  cius ugm vawr     furthermore cooperation frameworks with local governments were established and trust between the pilot city  municipal representatives and project partners was built during the in  person meetings and international  teleconferences resulting in the signing of cooperation agreements  lols attached      the major research findings of definition phase that were common to the three case studies are     all national development plans that guide planning in the three partner cities call for sdg localization or for  sdgs to be converted and implemented in a concrete urban development plan  in various forms the cities  have elaborated initial strategies to ma ke their cities liveable ecologically sustainable economically efficient  inclusive and climate friendly  they have identified the comprehensive and effective management of urban  water resources as a strategic element for this development      mainstream ur ban planning and development models such as the development and implementation of  centrally planned and managed technical infrastructure solutions are not sufficient to meet the changing  dynamics of the urban areas      various drivers and pressures related  to urban water resources have contributed to a system where the partner  cities struggle with the reliable provision of drinking water are unable to effectively manage wastewater and  stormwater and are unable to cope with extreme weather events  e g  dr oughts and floods       the municipal government structures have a limited capacity to actively shape urban transformation  processes which is reflected in the insufficient development of a management framework for urban water  resources  rapidly progressing l and use changes and poor solid waste management leads to flooding of  urban areas the washing out of existing sewage systems and water quality issues damaging both public  infrastructure and private property as well as threatening public health  diarrhea dengue etc        financeability and sustainable maintenance of effective water  sensitive infrastructure overwhelm the partner  cities  due to a lack of sufficient capacities mandates and financing instruments public  sector institutions act  reactively rathe r than proactively      due to insufficient inconsistent and fragmented regulatory frameworks and poorly coordinated mandates of public  bodies markets for decentralized systems are barely developed  operating models for existing wastewater  sectorial concepts in their realities   a high degree of flexibility modularity and polycentricity must be a key feature of water  sensitive infrastructure development for such cities  there is increasing awareness among city managers that the un principle of progressive implementation  evolving infrastructures  should guide infrastructure development  in reality this principle must be adequately defined according to the local context implemented and sustainably maintained hence there are onl y few precise ideas about this at the planning and decision  making levels of the partner cities  the previous 12 months of work culminated in presentations and discussion of our project work with the local  and national governments  sleman 17 6 2020  sam neua 23 6 2020  kratie 9 7 2020   who then  acknowledged the potential of polycentric management of their urban waters towards the sustainable  development of their cities  the cities approved the methodological approach of living labs as appropriate to  gain comprehensive k nowledge about water in their cities and develop strategic management approaches for  a transition towards water  sensitive cities  the profile of polyurbwater interventions in the cities have been  selected according to the following criteria a  relevan ce to project objectives  gain in scientific knowledge  and potential for development of methods and tools b  relevance to local needs  for such interventions  already voiced or demonstrated by residents municipality c  impact level of value added  provide d by the  project  d  minimization of risks for project implementation  e  institutional arrangements  established  stable open for collaboration f  capacities  manageable with available project resources g  manageability  by local structures and partners   considering the size complexity and heterogeneity of the three cities  decisions were taken to elaborate a customized comprehensive approach for kratie  and sam neua at the  overall city level and for sleman at a local district level  the local government  of sleman suggested six sub   districts as potential living labs  after comprehensive assessments based on the aforementioned criteria \n"
     ]
    }
   ],
   "source": [
    "import os\n",
    "import re\n",
    "import sys\n",
    "from PyPDF2 import PdfReader\n",
    "def remove_custom_chars(text_body):\n",
    "    \n",
    "    scape_chars = ['\"', \"”\", \"“\", \"’s\", \",\",\"'s\", \"\\xa0\", \":\", \";\"]\n",
    "    replace_chars = [\"/\", \")\", \"(\", \".\",\"\\n\", \"●\", \"•\"\n",
    "                   \"wp#1\", \"wp#2\", \"wp#3\", \"wp#4\", \"wp#5\", \"wp#6\", \"wp#7\", \n",
    "                   \"wp# 1\", \"wp# 2\", \"wp# 3\", \"wp# 4\", \"wp# 5\", \"wp# 6\", \"wp# 7\", \"-\", \n",
    "                   \"wp 1\", \"wp 2\", \"wp 3\", \"wp 4\", \"wp 5\", \"wp 6\"]\n",
    "    text_body = text_body.lower()\n",
    "    for i in scape_chars:\n",
    "        text_body = text_body.replace(i, \"\")\n",
    "    for i in replace_chars:\n",
    "        text_body = text_body.replace(i, \" \")\n",
    "    return text_body\n",
    "\n",
    "files_path = os.listdir('Project proposals')\n",
    "text_files_path = 'Text2/'\n",
    "print(files_path[8])\n",
    "fileName = os.path.splitext(files_path[8])[0]\n",
    "extention = os.path.splitext(files_path[8])[1]\n",
    "if extention == '.pdf':\n",
    "    reader = PdfReader(\"Project proposals/Polyurbanwaters.pdf\")\n",
    "    startPage = 0\n",
    "    endPage = len(reader.pages)\n",
    "    parts = []\n",
    "    for i in range(startPage, 6):\n",
    "        page = reader.pages[i]\n",
    "        page.extract_text(visitor_text=visitor_body)\n",
    "        text_body = \"\".join(parts)\n",
    "        \n",
    "    test = remove_custom_chars(text_body)\n",
    "    print(test)"
   ]
  }
 ],
 "metadata": {
  "kernelspec": {
   "display_name": "Python 3 (ipykernel)",
   "language": "python",
   "name": "python3"
  },
  "language_info": {
   "codemirror_mode": {
    "name": "ipython",
    "version": 3
   },
   "file_extension": ".py",
   "mimetype": "text/x-python",
   "name": "python",
   "nbconvert_exporter": "python",
   "pygments_lexer": "ipython3",
   "version": "3.9.13"
  }
 },
 "nbformat": 4,
 "nbformat_minor": 5
}
